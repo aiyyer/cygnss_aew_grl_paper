{
 "cells": [
  {
   "cell_type": "markdown",
   "id": "41c898f9-a561-4974-b0a6-a4b8dbbc27ce",
   "metadata": {},
   "source": [
    "## Code to:\n",
    "\n",
    "### Reads the data file: L2_flux_comp_atl_all_ver2.nc produced by L2_composite_ver2.ncl\n",
    "### and :\n",
    "###"
   ]
  },
  {
   "cell_type": "code",
   "execution_count": null,
   "id": "4a072a4d-9b43-48b4-a790-94caf909e6a5",
   "metadata": {},
   "outputs": [],
   "source": [
    "import xarray as xr\n",
    "import numpy as np\n",
    "import pandas as pd\n",
    "import statsmodels\n",
    "#import statsmodels.formula.api as smf\n",
    "import matplotlib.pyplot as plt\n",
    "import matplotlib.pylab as pl\n",
    "from scipy import stats\n",
    "\n",
    "import math"
   ]
  },
  {
   "cell_type": "code",
   "execution_count": null,
   "id": "00934b2c-b5bc-4e29-845f-4995319c827c",
   "metadata": {},
   "outputs": [],
   "source": [
    "import seaborn as sns\n",
    "sns.set_theme(style=\"darkgrid\")\n"
   ]
  },
  {
   "cell_type": "code",
   "execution_count": null,
   "id": "c49c408f-0efa-4a56-9bb5-de74b4ac785f",
   "metadata": {},
   "outputs": [],
   "source": [
    "#open the data set containing the flux data\n",
    "\n",
    "#fileName = '3.1/L2_flux_comp_atl_all_ver2_017.nc'  #  'L2_flux_comp_atl_all_ver2.nc'\n",
    "\n",
    "fileName = '~/work/data/cygnss/L2_flux_comp_atl_all_ver2_017.nc'\n",
    "\n",
    "ds = xr.open_dataset(fileName)\n",
    "print(ds)"
   ]
  },
  {
   "cell_type": "code",
   "execution_count": null,
   "id": "8dec5df9-d167-4864-8a04-2cc0c8291d46",
   "metadata": {},
   "outputs": [],
   "source": [
    "# convert to a pandas data frame\n",
    "heatFlux = ds.to_dataframe().droplevel('points')\n",
    "heatFlux.reset_index(inplace=True)\n",
    "heatFlux.dropna(inplace=True)\n",
    "print(heatFlux)\n",
    "\n",
    "\n",
    "# drop days past 3\n",
    "\n",
    "heatFlux=heatFlux.drop(heatFlux.query(\" `LagDays`>3 \").index)\n"
   ]
  },
  {
   "cell_type": "markdown",
   "id": "229483ad-7df9-4adc-bd73-d47936399478",
   "metadata": {},
   "source": [
    "## Violin Plot"
   ]
  },
  {
   "cell_type": "markdown",
   "id": "05e81dff-8d0a-4a16-952c-2ea6cf3ad6af",
   "metadata": {},
   "source": [
    "#sns.scatterplot( x=heatFlux['LagDays'], y=heatFlux['FluxSHF'])\n",
    "#dd = heatFlux.groupby('LagDays').mean().reset_index()\n",
    "#sns.scatterplot( x=dd['LagDays'], y=dd['FluxSHF'])"
   ]
  },
  {
   "cell_type": "code",
   "execution_count": null,
   "id": "265a1a34-c956-428a-90af-ec57c6281079",
   "metadata": {},
   "outputs": [],
   "source": [
    "fig, axs = plt.subplots(2,figsize=(14,10))\n",
    "\n",
    "plt.subplots_adjust(left=0.1,\n",
    "                    bottom=0.1, \n",
    "                    right=0.9, \n",
    "                    top=0.9, \n",
    "                    wspace=0.5, \n",
    "                    hspace=0.5)\n",
    "\n",
    "#fig.suptitle('')\n",
    "heatFlux['LagDays2'] = [f'{x:.1f}' for x in heatFlux['LagDays']]\n",
    "\n",
    "axs[0].set(ylim=(0, 500))\n",
    "axs[1].set(ylim=(-50, 100))\n",
    "\n",
    "\n",
    "\n",
    "axs1 = sns.violinplot(ax=axs[1], x=heatFlux['LagDays2'], y=heatFlux['FluxSHF'], palette=\"Greens\" , inner = \"quartile\", scale=\"count\")\n",
    "axs2 = sns.violinplot(ax=axs[0], x=heatFlux['LagDays2'], y=heatFlux['FluxLHF'], palette=\"Greens\" , inner = \"quartile\", scale=\"count\")\n",
    "\n",
    "axs1.set_ylabel('Flux', fontsize = 18)\n",
    "axs1.set_title('(b) Sensible Heat Flux', fontsize = 20)\n",
    "\n",
    "\n",
    "axs2.set_ylabel('Flux', fontsize = 18)\n",
    "axs2.set_title('(a) Latent Heat Flux', fontsize = 20)\n",
    "\n",
    "axs2.set_xlabel(\"Lag Days\", fontsize = 18)\n",
    "axs1.set_xlabel(\"Lag Days\", fontsize = 18)\n",
    "\n",
    "\n",
    "xx=[f'{x1:.1f}' for x1 in heatFlux.groupby('LagDays').median().index]\n",
    "\n",
    "ax2 = sns.lineplot(ax=axs[1],x=xx, y=heatFlux.groupby('LagDays').FluxSHF.median().values, color='black' , legend=False)\n",
    "ax2 = sns.lineplot(ax=axs[1],x=xx, y=heatFlux.groupby('LagDays').FluxSHF.mean().values, color='blue' , legend=False)\n",
    "ax2 = sns.lineplot(ax=axs[1],x=xx, y=heatFlux.groupby('LagDays').FluxSHF.quantile(0.99).values, legend=False)\n",
    "ax2 = sns.lineplot(ax=axs[1],x=xx, y=heatFlux.groupby('LagDays').FluxSHF.quantile(0.95).values, legend=False)\n",
    "ax2 = sns.lineplot(ax=axs[1],x=xx, y=heatFlux.groupby('LagDays').FluxSHF.quantile(0.90).values, legend=False)\n",
    "ax2 = sns.lineplot(ax=axs[1],x=xx, y=heatFlux.groupby('LagDays').FluxSHF.quantile(0.1).values, legend=False)\n",
    "ax2 = sns.lineplot(ax=axs[1],x=xx, y=heatFlux.groupby('LagDays').FluxSHF.quantile(0.05).values, legend=False)\n",
    "\n",
    "\n",
    "ax2 = sns.lineplot(ax=axs[0],x=xx, y=heatFlux.groupby('LagDays').FluxLHF.median().values, color='black' , legend=False)\n",
    "ax2 = sns.lineplot(ax=axs[0],x=xx, y=heatFlux.groupby('LagDays').FluxLHF.mean().values, color='blue' , legend=False)\n",
    "ax2 = sns.lineplot(ax=axs[0],x=xx, y=heatFlux.groupby('LagDays').FluxLHF.quantile(0.99).values, legend=False)\n",
    "ax2 = sns.lineplot(ax=axs[0],x=xx, y=heatFlux.groupby('LagDays').FluxLHF.quantile(0.95).values, legend=False)\n",
    "ax2 = sns.lineplot(ax=axs[0],x=xx, y=heatFlux.groupby('LagDays').FluxLHF.quantile(0.90).values, legend=False)\n",
    "ax2 = sns.lineplot(ax=axs[0],x=xx, y=heatFlux.groupby('LagDays').FluxLHF.quantile(0.1).values, legend=False)\n",
    "ax2 = sns.lineplot(ax=axs[0],x=xx, y=heatFlux.groupby('LagDays').FluxLHF.quantile(0.05).values, legend=False)\n"
   ]
  },
  {
   "cell_type": "code",
   "execution_count": null,
   "id": "8561303a-c722-470b-8bf0-ab4bf62bd953",
   "metadata": {},
   "outputs": [],
   "source": [
    "# get the percent change of the flux percentile value\n",
    "# Latent Heat flux\n",
    "\n",
    "\n",
    "perc = [0.05,.10,.50,.90,.95,.99]\n",
    "for x in perc:\n",
    "    A = heatFlux.groupby('LagDays').FluxLHF.quantile(x).values\n",
    "    A_change = (A[-1] - A[0] )*100/A[0]\n",
    "    print ('percentile = ', x, 'percent change = ', A_change, '   ', A[0], A[-1] )\n",
    "    \n",
    "    \n",
    "A=heatFlux.groupby('LagDays').FluxLHF.mean().values\n",
    "A_change = (A[-1] - A[0] )*100/A[0]\n",
    "print ( 'mean', A_change, A[0], A[-1] )\n",
    " "
   ]
  },
  {
   "cell_type": "code",
   "execution_count": null,
   "id": "8fbd873a-d71e-4e39-8bd2-642c73c11017",
   "metadata": {},
   "outputs": [],
   "source": [
    "# get the percent change of the flux percentile value\n",
    "# Sensible heat flux\n",
    "perc = [0.05,.10,.50,.90,.95,.99]\n",
    "for x in perc:\n",
    "    A = heatFlux.groupby('LagDays').FluxSHF.quantile(x).values\n",
    "    A_change = (A[-1] - A[0] )*100/A[0]\n",
    "    print ('percentile = ', x, 'percent change = ', A_change, '   ',  A[0], A[-1] )\n",
    "\n",
    "    \n",
    "A=heatFlux.groupby('LagDays').FluxSHF.mean().values\n",
    "A_change = (A[-1] - A[0] )*100/A[0]\n",
    "print ( 'mean', A_change, A[0], A[-1] )\n",
    " "
   ]
  },
  {
   "cell_type": "code",
   "execution_count": null,
   "id": "2e8fc487-0342-442b-a2a7-e2c6777ba56b",
   "metadata": {},
   "outputs": [],
   "source": [
    "plt.figure(figsize=(12, 8))\n",
    "plt.ylim(0, 30)\n",
    "\n",
    "xx=[f'{x1:.1f}' for x1 in heatFlux.groupby('LagDays').median().index]\n",
    "\n",
    "ax = sns.lineplot(x=xx, y=heatFlux.groupby('LagDays').FluxSHF.median().values, color='black' , legend=False)\n",
    "ax = sns.lineplot(x=xx, y=heatFlux.groupby('LagDays').FluxSHF.mean().values, legend=False, ax=ax)\n",
    "ax = sns.lineplot(x=xx, y=heatFlux.groupby('LagDays').FluxSHF.quantile(0.9).values, legend=False, ax=ax)\n",
    "ax = sns.lineplot(x=xx, y=heatFlux.groupby('LagDays').FluxSHF.quantile(0.1).values, legend=False, ax=ax)\n",
    "\n",
    "ax.set_xlabel(\"Lag Days\", fontsize = 20)\n",
    "ax.set_ylabel(\"Sensible Heat Flux\", fontsize = 20)\n",
    "plt.legend(loc='upper left', title = \" \" , labels=['Median', 'Mean', '90th percentile', '10th percentile'])\n",
    "\n",
    "#ax.set_xlabel(\"Lag Days\", fontsize = 20)\n",
    "#ax.set_ylabel(\"Latent Heat Flux\", fontsize = 20)\n",
    "#plt.legend(loc='upper left', title = 'FluxSHF', labels=['Median', '95th percentile', '90th percentile', '10th percentile'])"
   ]
  },
  {
   "cell_type": "code",
   "execution_count": null,
   "id": "b58f5eee-bd78-4789-a649-6dc50c699613",
   "metadata": {},
   "outputs": [],
   "source": [
    "plt.figure(figsize=(12, 8))\n",
    "plt.ylim(60, 300)\n",
    "\n",
    "xx=[f'{x1:.1f}' for x1 in heatFlux.groupby('LagDays').median().index]\n",
    "\n",
    "ax = sns.lineplot(x=xx, y=heatFlux.groupby('LagDays').FluxLHF.median().values, color='black' , legend=False)\n",
    "ax = sns.lineplot(x=xx, y=heatFlux.groupby('LagDays').FluxLHF.mean().values, legend=False, ax=ax)\n",
    "ax = sns.lineplot(x=xx, y=heatFlux.groupby('LagDays').FluxLHF.quantile(0.9).values, legend=False, ax=ax)\n",
    "ax = sns.lineplot(x=xx, y=heatFlux.groupby('LagDays').FluxLHF.quantile(0.1).values, legend=False, ax=ax)\n",
    "\n",
    "ax.set_xlabel(\"Lag Days\", fontsize = 20)\n",
    "ax.set_ylabel(\"Latent Heat Flux\", fontsize = 20)\n",
    "plt.legend(loc='upper left', title = \" \" , labels=['Median', 'Mean', '90th percentile', '10th percentile'])\n",
    "\n",
    "#ax.set_xlabel(\"Lag Days\", fontsize = 20)\n",
    "#ax.set_ylabel(\"Latent Heat Flux\", fontsize = 20)\n",
    "#plt.legend(loc='upper left', title = 'FluxSHF', labels=['Median', '95th percentile', '90th percentile', '10th percentile'])"
   ]
  },
  {
   "cell_type": "code",
   "execution_count": null,
   "id": "f5d4efc9-256e-4d35-a0d1-01caa384e2c5",
   "metadata": {},
   "outputs": [],
   "source": [
    "plt.figure(figsize=(12, 8))\n",
    "plt.ylim(-20, 40)\n",
    "\n",
    "xx=[f'{x1:.1f}' for x1 in heatFlux.groupby('LagDays').median().index]\n",
    "\n",
    "ax = sns.lineplot(x=xx, y=heatFlux.groupby('LagDays').FluxSHF.median().values, color='black' , legend=False)\n",
    "ax = sns.lineplot(x=xx, y=heatFlux.groupby('LagDays').FluxSHF.mean().values, legend=False, ax=ax)\n",
    "ax = sns.lineplot(x=xx, y=heatFlux.groupby('LagDays').FluxSHF.quantile(0.9).values, legend=False, ax=ax)\n",
    "ax = sns.lineplot(x=xx, y=heatFlux.groupby('LagDays').FluxSHF.quantile(0.1).values, legend=False, ax=ax)\n",
    "\n",
    "ax.set_xlabel(\"Lag Days\", fontsize = 20)\n",
    "ax.set_ylabel(\"Latent Heat Flux\", fontsize = 20)\n",
    "plt.legend(loc='upper left', title = \" \" , labels=['Median', 'Mean', '90th percentile', '10th percentile'])"
   ]
  },
  {
   "cell_type": "code",
   "execution_count": null,
   "id": "d8cf34d6-1a00-4050-9010-91a6e08c5ea8",
   "metadata": {},
   "outputs": [],
   "source": [
    "## Check difference in distributions\n",
    "# From the documentation for ks_2samp from scipy\n",
    "# The null hypothesis is that the two distributions are identical, \n",
    "# the alternative is that they are not identical.\n",
    "# If the KS statistic is small or the p-value is high, \n",
    "# then we cannot reject the null hypothesis in favor of the alternative.\n"
   ]
  },
  {
   "cell_type": "code",
   "execution_count": null,
   "id": "5ce6e77f-f086-467a-839d-a2a01d60f068",
   "metadata": {},
   "outputs": [],
   "source": [
    "rvs1 = heatFlux.loc[heatFlux['LagDays'] ==   -1].FluxLHF\n",
    "rvs2 = heatFlux.loc[heatFlux['LagDays'] ==   -1].FluxLHF\n",
    "\n",
    "out=stats.ks_2samp(rvs1, rvs2)\n",
    "\n",
    "print(rvs1.mean())\n",
    "print(rvs2.mean())\n",
    "print(out)"
   ]
  },
  {
   "cell_type": "markdown",
   "id": "a0ca9723-941d-4eb0-96b9-cf34956b9ff4",
   "metadata": {},
   "source": [
    "# flux as a function of Radius"
   ]
  },
  {
   "cell_type": "code",
   "execution_count": null,
   "id": "f4f9af53-bbd0-4688-8b86-f807373eea17",
   "metadata": {},
   "outputs": [],
   "source": [
    "df=heatFlux[heatFlux[\"LagDays\"].isin([-2,-1,0,1,2])]\n",
    "binvals = np.arange(0,700,30)\n",
    "cuts = pd.cut(df['distance'],bins=binvals)"
   ]
  },
  {
   "cell_type": "code",
   "execution_count": null,
   "id": "7eb873d8-4845-435d-ac0a-0570f6606a61",
   "metadata": {},
   "outputs": [],
   "source": [
    "dd=(df.groupby(['LagDays', cuts])\n",
    "   .FluxLHF.mean()\n",
    "   .reset_index(name='avg_FluxLHF')\n",
    ")\n",
    "\n",
    "\n",
    "\n",
    "dd['LeftEnd'] = dd['distance'].apply(lambda x: x.left)\n",
    "\n",
    "print(dd)\n",
    "\n",
    "ax=sns.relplot(data=dd, x='LeftEnd', y='avg_FluxLHF', hue='LagDays', style=\"LagDays\", kind=\"line\",\n",
    "               height=8,aspect=1.5, palette='brg_r', linewidth = 3.5, legend=False)\n",
    "\n",
    "plt.xlabel(\"Distance from Vortex Center\", fontsize = 20)\n",
    "plt.ylabel(\"Mean Latent Heat Flux\", fontsize = 20)\n",
    "\n",
    "plt.legend(title='Flux', loc='upper right', labels=['Day-2','Day-1','Day 0','Day+1','Day+2'])\n",
    "plt.xlim(0, 600)\n",
    "plt.title(\"\")\n",
    "plt.show(ax)\n"
   ]
  },
  {
   "cell_type": "code",
   "execution_count": null,
   "id": "6aa2a1b5-1daf-484e-83e3-4577428145c1",
   "metadata": {},
   "outputs": [],
   "source": [
    "\n",
    "\n",
    "dd=(df.groupby(['LagDays', cuts])\n",
    "   .FluxSHF.mean()\n",
    "   .reset_index(name='avg_FluxSHF')\n",
    ")\n",
    "\n",
    "\n",
    "\n",
    "dd['LeftEnd'] = dd['distance'].apply(lambda x: x.left)\n",
    "\n",
    "print(dd)\n",
    "\n",
    "ax=sns.relplot(data=dd, x='LeftEnd', y='avg_FluxSHF', hue='LagDays', style=\"LagDays\", kind=\"line\",\n",
    "               height=8,aspect=1.5, palette='brg_r', linewidth = 3.5, legend=False)\n",
    "\n",
    "plt.xlabel(\"Distance from Vortex Center\", fontsize = 20)\n",
    "plt.ylabel(\"Mean Latent Heat Flux\", fontsize = 20)\n",
    "\n",
    "plt.legend(title='Flux', loc='upper right', labels=['Day-2','Day -1','Day 0','Day + 1','Day + 2'])\n",
    "plt.xlim(0, 600)\n",
    "plt.title(\"\")\n",
    "plt.show(ax)\n"
   ]
  },
  {
   "cell_type": "markdown",
   "id": "b6dd7b33-2d9a-4e88-8a6b-fdd52caa8e40",
   "metadata": {},
   "source": [
    "# Version 2 of the flux as a function of radius"
   ]
  },
  {
   "cell_type": "code",
   "execution_count": null,
   "id": "6dab5276-4d26-490b-bef0-3b461172be11",
   "metadata": {},
   "outputs": [],
   "source": [
    "df=heatFlux[heatFlux[\"LagDays\"].isin([-2])]\n",
    "\n",
    "df_lhf = df[['FluxLHF','distance','LagDays']]\n",
    "df_lhf = df_lhf.reset_index(drop=True)\n",
    "print(df_lhf)\n",
    "ax = sns.regplot(data=df_lhf,x=\"distance\", y=\"FluxLHF\", marker = \".\", scatter_kws={\"color\": \"blue\"}, line_kws={\"color\": \"red\"}, x_bins=20,lowess=False)\n",
    "ax.set(ylim=(120, 150))\n",
    "\n",
    "\n",
    "\n"
   ]
  },
  {
   "cell_type": "code",
   "execution_count": null,
   "id": "d7dfdefb-09d0-41b8-a0b2-abb0920a9f1e",
   "metadata": {},
   "outputs": [],
   "source": [
    "xbins = list(range(0,600,50))\n",
    "\n",
    "df=heatFlux[heatFlux[\"LagDays\"].isin([-2])]\n",
    "\n",
    "\n",
    "df_lhf = df[['FluxLHF','distance','LagDays']]\n",
    "df_lhf = df_lhf.reset_index(drop=True)\n",
    "\n",
    "ax = sns.regplot(data=df_lhf,x=\"distance\", y=\"FluxLHF\", marker = \".\", scatter_kws={\"color\": \"blue\"}, line_kws={\"color\": \"red\"}, x_bins=xbins,lowess=True)\n",
    "ax.set(ylim=(120, 150))\n",
    "ax.set(xlim=(-10, 600))\n",
    "\n"
   ]
  },
  {
   "cell_type": "code",
   "execution_count": null,
   "id": "237cac03-a652-4040-bdb2-5bc364a72c4f",
   "metadata": {},
   "outputs": [],
   "source": [
    "df=heatFlux[heatFlux[\"LagDays\"].isin([0])]\n",
    "\n",
    "df_lhf = df[['FluxLHF','distance','LagDays']]\n",
    "df_lhf = df_lhf.reset_index(drop=True)\n",
    "print(df_lhf)\n",
    "ax = sns.regplot(data=df_lhf,x=\"distance\", y=\"FluxLHF\", marker = \".\", scatter_kws={\"color\": \"blue\"}, line_kws={\"color\": \"red\"}, x_bins=20,lowess=True)\n",
    "ax.set(ylim=(120, 150))\n"
   ]
  },
  {
   "cell_type": "code",
   "execution_count": null,
   "id": "209b035e-d935-4f28-a281-1e258ff214e1",
   "metadata": {},
   "outputs": [],
   "source": [
    "\n",
    "\n",
    "ax = sns.regplot(data=df_lhf,x=\"distance\", y=\"FluxLHF\", marker = \".\", scatter_kws={\"color\": \"blue\"}, line_kws={\"color\": \"red\"}, x_bins=20, lowess=False)"
   ]
  },
  {
   "cell_type": "code",
   "execution_count": null,
   "id": "1c88b0f8-ec9c-49ac-8658-b9dc64877a9a",
   "metadata": {},
   "outputs": [],
   "source": [
    "xbins = list(range(11, 17))\n",
    "print(xbins)\n",
    "print('test')"
   ]
  },
  {
   "cell_type": "code",
   "execution_count": null,
   "id": "b0717fa6-261f-41b4-b3fd-04ad9e5781a4",
   "metadata": {},
   "outputs": [],
   "source": [
    "df=heatFlux[heatFlux[\"LagDays\"].isin([-2,-1,0,1,2])]\n",
    "\n",
    "df_lhf = df[['FluxLHF','distance','LagDays']]\n",
    "df_lhf = df_lhf.reset_index(drop=True)\n",
    "\n",
    "\n",
    "print(df_lhf)\n",
    "g = sns.FacetGrid(df_lhf, col=\"LagDays\")\n",
    "ax = g.map_dataframe(sns.regplot, x=\"distance\", y=\"FluxLHF\", marker = \".\", scatter_kws={\"color\": \"blue\"}, line_kws={\"color\": \"red\"}, x_bins=20, lowess=True)\n",
    "g.set(ylim=(120, 150))"
   ]
  },
  {
   "cell_type": "code",
   "execution_count": null,
   "id": "128f50a6-5e65-400b-946e-a29a1d14b922",
   "metadata": {},
   "outputs": [],
   "source": [
    "df=heatFlux[heatFlux[\"LagDays\"].isin([-2,-1,0,1,2])]\n",
    "df_lhf = df[['FluxLHF','distance','LagDays']]\n",
    "df_lhf = df_lhf.reset_index(drop=True)\n",
    "print(df_lhf)\n",
    "g = sns.FacetGrid(df_lhf, col=\"LagDays\")\n",
    "ax = g.map_dataframe(sns.regplot, x=\"distance\", y=\"FluxLHF\", marker = \".\", scatter_kws={\"color\": \"blue\"}, line_kws={\"color\": \"red\"}, x_bins=xbins, lowess=False)\n",
    "ax.set(ylim=(120, 150))"
   ]
  },
  {
   "cell_type": "code",
   "execution_count": null,
   "id": "b6eafbe2-1b3c-4991-bd33-b11d39e8140b",
   "metadata": {},
   "outputs": [],
   "source": []
  },
  {
   "cell_type": "code",
   "execution_count": null,
   "id": "fb0283bc-b706-4eec-afcf-bf04461e2353",
   "metadata": {},
   "outputs": [],
   "source": [
    "#sns.relplot(x=\"distance\", y=\"FluxSHF\", hue=\"LagDays\", style=\"LagDays\",\n",
    "#            data=heatFlux);"
   ]
  },
  {
   "cell_type": "code",
   "execution_count": null,
   "id": "86796ad1-48db-4da6-9840-7efd72ec4b24",
   "metadata": {},
   "outputs": [],
   "source": [
    "#bin_means, bin_edges, binnumber = stats.binned_statistic(heatFlux.loc[heatFlux['LagDays']==-2.0].distance, heatFlux.loc[heatFlux['LagDays']==-2.0].FluxSHF, 'median', bins=20)\n",
    "#bin_width = (bin_edges[1] - bin_edges[0])\n",
    "#bin_centers = bin_edges[1:] - bin_width/2\n",
    "#plt.figure()\n",
    "#plt.hlines(bin_means, bin_edges[:-1], bin_edges[1:], colors='g', lw=2,\n",
    "#           label='binned statistic of data')\n",
    "\n",
    "#plt.legend(fontsize=10)\n",
    "#plt.show()"
   ]
  },
  {
   "cell_type": "code",
   "execution_count": null,
   "id": "8c6cf8c9-3a1e-47b6-9d1d-35ac7ea99435",
   "metadata": {},
   "outputs": [],
   "source": [
    "\n"
   ]
  },
  {
   "cell_type": "code",
   "execution_count": null,
   "id": "9f13de2e-cb4e-41d8-aeb2-f27ec390887a",
   "metadata": {},
   "outputs": [],
   "source": []
  },
  {
   "cell_type": "code",
   "execution_count": null,
   "id": "2e3dbe77-1178-4e00-8fc6-a2b393f75b92",
   "metadata": {},
   "outputs": [],
   "source": []
  }
 ],
 "metadata": {
  "kernelspec": {
   "display_name": "Python 3 (ipykernel)",
   "language": "python",
   "name": "python3"
  },
  "language_info": {
   "codemirror_mode": {
    "name": "ipython",
    "version": 3
   },
   "file_extension": ".py",
   "mimetype": "text/x-python",
   "name": "python",
   "nbconvert_exporter": "python",
   "pygments_lexer": "ipython3",
   "version": "3.10.4"
  }
 },
 "nbformat": 4,
 "nbformat_minor": 5
}
